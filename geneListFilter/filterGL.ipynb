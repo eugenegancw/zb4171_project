{
 "cells": [
  {
   "cell_type": "code",
   "execution_count": 30,
   "id": "445f329b",
   "metadata": {},
   "outputs": [],
   "source": [
    "import pandas as pd\n",
    "import os"
   ]
  },
  {
   "cell_type": "code",
   "execution_count": 31,
   "id": "ea55ef1c",
   "metadata": {},
   "outputs": [],
   "source": [
    "def filter_fn(csv_file):\n",
    "    df=pd.read_csv(csv_file)\n",
    "    filtered_df=df[(abs(df['FC'])>=1.5)& (df['ADJ.PVAL']<0.05)]\n",
    "    os.makedirs('filtered', exist_ok=True)  \n",
    "    filtered_df.to_csv('filtered/filtered_'+csv_file) #filtered gene list with all the columns\n",
    "    \n",
    "    gene_lst=filtered_df[['SYMBOL']]\n",
    "    gene_lst.to_csv('filtered/filteredGL_'+csv_file) #filtered gene list with just the gene symbol column\n"
   ]
  },
  {
   "cell_type": "markdown",
   "id": "63515cc9",
   "metadata": {},
   "source": [
    "Input the respective DESeq2 csv files under the same folder and run the filter_fn function"
   ]
  },
  {
   "cell_type": "code",
   "execution_count": 32,
   "id": "f508eab5",
   "metadata": {},
   "outputs": [],
   "source": [
    "filter_fn('BLCA_DEseq_list.csv')"
   ]
  },
  {
   "cell_type": "code",
   "execution_count": 33,
   "id": "7cf7f483",
   "metadata": {},
   "outputs": [],
   "source": [
    "filter_fn('BRCA_DEseq_list.csv')"
   ]
  }
 ],
 "metadata": {
  "kernelspec": {
   "display_name": "Python 3",
   "language": "python",
   "name": "python3"
  },
  "language_info": {
   "codemirror_mode": {
    "name": "ipython",
    "version": 3
   },
   "file_extension": ".py",
   "mimetype": "text/x-python",
   "name": "python",
   "nbconvert_exporter": "python",
   "pygments_lexer": "ipython3",
   "version": "3.8.8"
  },
  "varInspector": {
   "cols": {
    "lenName": 16,
    "lenType": 16,
    "lenVar": 40
   },
   "kernels_config": {
    "python": {
     "delete_cmd_postfix": "",
     "delete_cmd_prefix": "del ",
     "library": "var_list.py",
     "varRefreshCmd": "print(var_dic_list())"
    },
    "r": {
     "delete_cmd_postfix": ") ",
     "delete_cmd_prefix": "rm(",
     "library": "var_list.r",
     "varRefreshCmd": "cat(var_dic_list()) "
    }
   },
   "types_to_exclude": [
    "module",
    "function",
    "builtin_function_or_method",
    "instance",
    "_Feature"
   ],
   "window_display": false
  }
 },
 "nbformat": 4,
 "nbformat_minor": 5
}
