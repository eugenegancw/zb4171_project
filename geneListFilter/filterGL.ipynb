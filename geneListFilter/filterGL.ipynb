{
 "cells": [
  {
   "cell_type": "code",
   "execution_count": 14,
   "id": "445f329b",
   "metadata": {},
   "outputs": [],
   "source": [
    "import pandas as pd\n",
    "import os"
   ]
  },
  {
   "cell_type": "code",
   "execution_count": 18,
   "id": "ea55ef1c",
   "metadata": {},
   "outputs": [],
   "source": [
    "def filter_fn(csv_file):\n",
    "    df=pd.read_csv(csv_file)\n",
    "    filtered_df=df[(abs(df['FC'])>=1.5)& (df['ADJ.PVAL']<0.05)]\n",
    "    os.makedirs('filteredGL', exist_ok=True)  \n",
    "    filtered_df.to_csv('filteredGL/filtered_'+csv_file) #filtered gene list with all the columns\n",
    "    gene_lst=filtered_df[['SYMBOL']]\n",
    "    gene_lst.to_csv('filteredGL/gene_lst_'+csv_file) #filtered gene list with just the gene symbol column\n"
   ]
  },
  {
   "cell_type": "markdown",
   "id": "63515cc9",
   "metadata": {},
   "source": [
    "Add the gene list under the same folder and run the filter function on the respective gene lists:"
   ]
  },
  {
   "cell_type": "code",
   "execution_count": 19,
   "id": "f508eab5",
   "metadata": {},
   "outputs": [],
   "source": [
    "filter_fn('BLCA_resultspadj.csv')"
   ]
  },
  {
   "cell_type": "code",
   "execution_count": null,
   "id": "7cf7f483",
   "metadata": {},
   "outputs": [],
   "source": [
    "filter_fn('BRCA_resultspadj.csv')"
   ]
  }
 ],
 "metadata": {
  "kernelspec": {
   "display_name": "Python 3",
   "language": "python",
   "name": "python3"
  },
  "language_info": {
   "codemirror_mode": {
    "name": "ipython",
    "version": 3
   },
   "file_extension": ".py",
   "mimetype": "text/x-python",
   "name": "python",
   "nbconvert_exporter": "python",
   "pygments_lexer": "ipython3",
   "version": "3.8.8"
  },
  "varInspector": {
   "cols": {
    "lenName": 16,
    "lenType": 16,
    "lenVar": 40
   },
   "kernels_config": {
    "python": {
     "delete_cmd_postfix": "",
     "delete_cmd_prefix": "del ",
     "library": "var_list.py",
     "varRefreshCmd": "print(var_dic_list())"
    },
    "r": {
     "delete_cmd_postfix": ") ",
     "delete_cmd_prefix": "rm(",
     "library": "var_list.r",
     "varRefreshCmd": "cat(var_dic_list()) "
    }
   },
   "types_to_exclude": [
    "module",
    "function",
    "builtin_function_or_method",
    "instance",
    "_Feature"
   ],
   "window_display": false
  }
 },
 "nbformat": 4,
 "nbformat_minor": 5
}
